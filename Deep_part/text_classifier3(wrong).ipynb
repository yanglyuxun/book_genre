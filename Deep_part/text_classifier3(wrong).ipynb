{
 "cells": [
  {
   "cell_type": "markdown",
   "metadata": {},
   "source": [
    "Used the pre-trained glove embedding model in this trial.\n",
    "Add Convolution layers"
   ]
  },
  {
   "cell_type": "code",
   "execution_count": 1,
   "metadata": {},
   "outputs": [
    {
     "name": "stderr",
     "output_type": "stream",
     "text": [
      "Using TensorFlow backend.\n"
     ]
    }
   ],
   "source": [
    "import read_data \n",
    "from keras.preprocessing.text import Tokenizer\n",
    "from keras.preprocessing.sequence import pad_sequences\n",
    "from keras.utils import to_categorical\n",
    "from keras.models import Sequential\n",
    "from keras.layers import Dense\n",
    "from keras.layers import LSTM\n",
    "from keras.layers import Bidirectional\n",
    "from keras.layers.convolutional import Conv1D\n",
    "from keras.layers.convolutional import MaxPooling1D\n",
    "from keras.layers.embeddings import Embedding\n",
    "from keras.preprocessing import sequence\n",
    "from keras.models import load_model\n",
    "from keras.callbacks import ModelCheckpoint, TensorBoard, CSVLogger\n",
    "import matplotlib.pyplot as plt\n",
    "import seaborn as sns\n",
    "import numpy as np\n",
    "import pandas as pd\n",
    "from pandas.io.pickle import to_pickle, read_pickle\n",
    "save_dir = 'text_classifier3/'\n",
    "import os\n",
    "if not os.path.exists(save_dir):\n",
    "    os.mkdir(save_dir)"
   ]
  },
  {
   "cell_type": "code",
   "execution_count": 2,
   "metadata": {},
   "outputs": [],
   "source": [
    "#%% imbeding vectors\n",
    "#download\n",
    "glove_dir = 'glove_data/'\n",
    "if not os.path.exists(glove_dir):\n",
    "    os.mkdir(glove_dir)\n",
    "if not os.path.exists(glove_dir+'glove.6B.zip'):\n",
    "    import subprocess\n",
    "    subprocess.run([\"wget\",'-P'+glove_dir, \"http://nlp.stanford.edu/data/glove.6B.zip\"])\n",
    "    print('downloaded')\n",
    "if not os.path.exists(glove_dir+'glove.6B.50d.txt'):\n",
    "    import zipfile\n",
    "    zip_ref = zipfile.ZipFile(glove_dir+'glove.6B.zip', 'r')\n",
    "    zip_ref.extractall(glove_dir)\n",
    "    zip_ref.close()\n",
    "    print('unziped')"
   ]
  },
  {
   "cell_type": "code",
   "execution_count": 3,
   "metadata": {},
   "outputs": [
    {
     "name": "stdout",
     "output_type": "stream",
     "text": [
      "Found 400000 word vectors.\n"
     ]
    }
   ],
   "source": [
    "embeddings_index = {}\n",
    "with open(glove_dir+'glove.6B.50d.txt') as f:\n",
    "    for line in f:\n",
    "        values = line.split()\n",
    "        word = values[0]\n",
    "        coefs = np.asarray(values[1:], dtype='float32')\n",
    "        embeddings_index[word] = coefs\n",
    "print('Found %s word vectors.' % len(embeddings_index))"
   ]
  },
  {
   "cell_type": "code",
   "execution_count": 4,
   "metadata": {},
   "outputs": [
    {
     "name": "stdout",
     "output_type": "stream",
     "text": [
      "169991\n"
     ]
    }
   ],
   "source": [
    "#%% first steps\n",
    "books,genre,excerpt = read_data.read_text_data()\n",
    "id_train,id_val = read_data.read_ids()\n",
    "\n",
    "MAX_WORDS = 8000\n",
    "tokenizer = Tokenizer(num_words=MAX_WORDS)\n",
    "tokenizer.fit_on_texts(excerpt.values())\n",
    "sequences = tokenizer.texts_to_sequences(excerpt.values())\n",
    "\n",
    "word_index = tokenizer.word_index\n",
    "to_pickle(tokenizer, save_dir+'text_tokenizer.pickle')\n",
    "print(len(word_index))\n"
   ]
  },
  {
   "cell_type": "code",
   "execution_count": 5,
   "metadata": {},
   "outputs": [
    {
     "data": {
      "text/plain": [
       "(0, 10000)"
      ]
     },
     "execution_count": 5,
     "metadata": {},
     "output_type": "execute_result"
    },
    {
     "data": {
      "image/png": "[encoded data removed]",
      "text/plain": [
       "<matplotlib.figure.Figure at 0x7f59514fada0>"
      ]
     },
     "metadata": {},
     "output_type": "display_data"
    }
   ],
   "source": [
    "lens = [len(s) for s in sequences]\n",
    "sns.distplot(lens)\n",
    "plt.xlim((0,10000))"
   ]
  },
  {
   "cell_type": "code",
   "execution_count": 6,
   "metadata": {},
   "outputs": [
    {
     "name": "stdout",
     "output_type": "stream",
     "text": [
      "Shape of data tensor: (4166, 4000)\n",
      "Shape of label tensor: (4166, 1)\n"
     ]
    }
   ],
   "source": [
    "MAXLEN = 4000\n",
    "data = pad_sequences(sequences, maxlen=MAXLEN)\n",
    "\n",
    "#labels = to_categorical(np.asarray(labels))\n",
    "labels = ['Fiction' in genre[id] for id in excerpt.keys()]\n",
    "labels = np.array(labels).reshape((-1,1))\n",
    "print('Shape of data tensor:', data.shape)\n",
    "print('Shape of label tensor:', labels.shape)"
   ]
  },
  {
   "cell_type": "code",
   "execution_count": 7,
   "metadata": {},
   "outputs": [
    {
     "name": "stdout",
     "output_type": "stream",
     "text": [
      "(2922, 4000) (2922, 1) (1244, 4000) (1244, 1)\n"
     ]
    }
   ],
   "source": [
    "# split the data into a training set and a validation set\n",
    "\n",
    "train_index = [id in id_train for id in excerpt.keys()]\n",
    "val_index = [id in id_val for id in excerpt.keys()]\n",
    "x_train = data[train_index]\n",
    "y_train = labels[train_index]\n",
    "x_val = data[val_index]\n",
    "y_val = labels[val_index]\n",
    "print(x_train.shape,y_train.shape,x_val.shape,y_val.shape)\n",
    "\n",
    "to_pickle((x_train, y_train, x_val, y_val),save_dir+'text_dataset.pc')"
   ]
  },
  {
   "cell_type": "code",
   "execution_count": 8,
   "metadata": {},
   "outputs": [],
   "source": [
    "# prepare embedding layer\n",
    "embedding_vecor_length = 50 # this is determined by the glove data!!!\n",
    "num_words = min(MAX_WORDS, len(word_index))\n",
    "embedding_matrix = np.zeros((num_words, embedding_vecor_length))\n",
    "for word, i in word_index.items():\n",
    "    if i >= MAX_WORDS:\n",
    "        continue\n",
    "    embedding_vector = embeddings_index.get(word)\n",
    "    if embedding_vector is not None:\n",
    "        # words not found in embedding index will be all-zeros.\n",
    "        embedding_matrix[i] = embedding_vector\n",
    "\n",
    "embedding_layer = Embedding(num_words,\n",
    "                            embedding_vecor_length,\n",
    "                            weights=[embedding_matrix],\n",
    "                            input_length=MAXLEN,\n",
    "                            trainable=False)"
   ]
  },
  {
   "cell_type": "code",
   "execution_count": 11,
   "metadata": {},
   "outputs": [
    {
     "name": "stdout",
     "output_type": "stream",
     "text": [
      "_________________________________________________________________\n",
      "Layer (type)                 Output Shape              Param #   \n",
      "=================================================================\n",
      "embedding_1 (Embedding)      (None, 4000, 50)          400000    \n",
      "_________________________________________________________________\n",
      "conv1d_3 (Conv1D)            (None, 3998, 32)          4832      \n",
      "_________________________________________________________________\n",
      "max_pooling1d_3 (MaxPooling1 (None, 1999, 32)          0         \n",
      "_________________________________________________________________\n",
      "bidirectional_3 (Bidirection (None, 100)               33200     \n",
      "_________________________________________________________________\n",
      "dense_3 (Dense)              (None, 1)                 101       \n",
      "=================================================================\n",
      "Total params: 438,133\n",
      "Trainable params: 38,133\n",
      "Non-trainable params: 400,000\n",
      "_________________________________________________________________\n",
      "None\n"
     ]
    }
   ],
   "source": [
    "\n",
    "model = Sequential()\n",
    "model.add(embedding_layer)\n",
    "model.add(Conv1D(filters=32, kernel_size=3, activation='relu'))\n",
    "model.add(MaxPooling1D(pool_size=2))\n",
    "model.add(Bidirectional(LSTM(50,dropout=0.2, recurrent_dropout=0.2)))\n",
    "model.add(Dense(1, activation='tanh'))\n",
    "model.compile(loss='binary_crossentropy', optimizer='adam', metrics=['accuracy'])\n",
    "print(model.summary())\n",
    "\n",
    "checkpoint = ModelCheckpoint(save_dir+\"text_best_model.h5\", monitor='val_acc', verbose=1, save_best_only=True, save_weights_only=False, mode='auto', period=1)\n",
    "#early = EarlyStopping(monitor='val_acc', min_delta=0, patience=10, verbose=1, mode='auto')\n",
    "with open(save_dir+'text_csvlogger.csv','w') as f:\n",
    "    f.write('')\n",
    "csvlog = CSVLogger(save_dir+'text_csvlogger.csv',append=True)"
   ]
  },
  {
   "cell_type": "code",
   "execution_count": 12,
   "metadata": {
    "scrolled": false
   },
   "outputs": [
    {
     "name": "stdout",
     "output_type": "stream",
     "text": [
      "Train on 2922 samples, validate on 1244 samples\n",
      "Epoch 1/5\n",
      "2880/2922 [============================>.] - ETA: 2s - loss: 0.8498 - acc: 0.4934Epoch 00000: val_acc improved from -inf to 0.66077, saving model to text_classifier3/text_best_model.h5\n",
      "2922/2922 [==============================] - 176s - loss: 0.8455 - acc: 0.4976 - val_loss: 0.6485 - val_acc: 0.6608\n",
      "Epoch 2/5\n",
      "2880/2922 [============================>.] - ETA: 2s - loss: 0.6667 - acc: 0.6312Epoch 00001: val_acc did not improve\n",
      "2922/2922 [==============================] - 172s - loss: 0.6652 - acc: 0.6331 - val_loss: 0.6378 - val_acc: 0.6543\n",
      "Epoch 3/5\n",
      "2880/2922 [============================>.] - ETA: 2s - loss: 0.6348 - acc: 0.6351Epoch 00002: val_acc improved from 0.66077 to 0.66238, saving model to text_classifier3/text_best_model.h5\n",
      "2922/2922 [==============================] - 173s - loss: 0.6334 - acc: 0.6362 - val_loss: 0.6136 - val_acc: 0.6624\n",
      "Epoch 4/5\n",
      "2880/2922 [============================>.] - ETA: 2s - loss: 0.6249 - acc: 0.6552Epoch 00003: val_acc improved from 0.66238 to 0.67685, saving model to text_classifier3/text_best_model.h5\n",
      "2922/2922 [==============================] - 173s - loss: 0.6244 - acc: 0.6550 - val_loss: 0.5857 - val_acc: 0.6768\n",
      "Epoch 5/5\n",
      "2880/2922 [============================>.] - ETA: 2s - loss: 0.6361 - acc: 0.6281Epoch 00004: val_acc did not improve\n",
      "2922/2922 [==============================] - 172s - loss: 0.6379 - acc: 0.6259 - val_loss: 0.7355 - val_acc: 0.4574\n",
      "0.676848874215\n"
     ]
    }
   ],
   "source": [
    "model.fit(x_train, y_train, epochs=5, batch_size=64,\n",
    "          callbacks = [checkpoint, csvlog],\n",
    "          validation_data=(x_val, y_val))\n",
    "\n",
    "#scores = model.evaluate(x_val, y_val, verbose=0)\n",
    "#print(\"Accuracy: %f%%\" % (scores[1]*100))\n",
    "\n",
    "model.save(save_dir+'text_last_model.h5')\n",
    "print(checkpoint.best)"
   ]
  },
  {
   "cell_type": "code",
   "execution_count": 14,
   "metadata": {},
   "outputs": [
    {
     "name": "stdout",
     "output_type": "stream",
     "text": [
      "Train on 2922 samples, validate on 1244 samples\n",
      "Epoch 1/5\n",
      "2880/2922 [============================>.] - ETA: 2s - loss: 0.6256 - acc: 0.6569Epoch 00000: val_acc improved from 0.67685 to 0.68650, saving model to text_classifier3/text_best_model.h5\n",
      "2922/2922 [==============================] - 172s - loss: 0.6247 - acc: 0.6571 - val_loss: 0.5489 - val_acc: 0.6865\n",
      "Epoch 2/5\n",
      "2880/2922 [============================>.] - ETA: 2s - loss: 0.5779 - acc: 0.7007Epoch 00001: val_acc improved from 0.68650 to 0.76286, saving model to text_classifier3/text_best_model.h5\n",
      "2922/2922 [==============================] - 171s - loss: 0.5779 - acc: 0.6999 - val_loss: 0.4973 - val_acc: 0.7629\n",
      "Epoch 3/5\n",
      "2880/2922 [============================>.] - ETA: 2s - loss: 0.5631 - acc: 0.7229Epoch 00002: val_acc did not improve\n",
      "2922/2922 [==============================] - 191s - loss: 0.5635 - acc: 0.7214 - val_loss: 0.5112 - val_acc: 0.7235\n",
      "Epoch 4/5\n",
      "2880/2922 [============================>.] - ETA: 4s - loss: 0.5620 - acc: 0.7247 Epoch 00003: val_acc did not improve\n",
      "2922/2922 [==============================] - 319s - loss: 0.5612 - acc: 0.7245 - val_loss: 0.4794 - val_acc: 0.7355\n",
      "Epoch 5/5\n",
      "2880/2922 [============================>.] - ETA: 4s - loss: 0.5690 - acc: 0.7174 Epoch 00004: val_acc improved from 0.76286 to 0.76286, saving model to text_classifier3/text_best_model.h5\n",
      "2922/2922 [==============================] - 327s - loss: 0.5695 - acc: 0.7163 - val_loss: 0.5408 - val_acc: 0.7629\n",
      "0.762861736909\n"
     ]
    }
   ],
   "source": [
    "#%% continue training\n",
    "\n",
    "#model = load_model(save_dir+'text_last_model.h5')\n",
    "#x_train, y_train, x_val, y_val = read_pickle(save_dir+'text_dataset.pc')\n",
    "\n",
    "model.fit(x_train, y_train, epochs=5, batch_size=64,\n",
    "          callbacks = [checkpoint, csvlog],\n",
    "          validation_data=(x_val, y_val))\n",
    "\n",
    "model.save(save_dir+'text_last_model.h5')\n",
    "print(checkpoint.best)"
   ]
  },
  {
   "cell_type": "code",
   "execution_count": 15,
   "metadata": {},
   "outputs": [
    {
     "name": "stdout",
     "output_type": "stream",
     "text": [
      "Train on 2922 samples, validate on 1244 samples\n",
      "Epoch 1/5\n",
      "2880/2922 [============================>.] - ETA: 2s - loss: 0.5491 - acc: 0.7378Epoch 00000: val_acc did not improve\n",
      "2922/2922 [==============================] - 169s - loss: 0.5488 - acc: 0.7385 - val_loss: 0.5156 - val_acc: 0.7444\n",
      "Epoch 2/5\n",
      "2880/2922 [============================>.] - ETA: 2s - loss: 0.5307 - acc: 0.7542Epoch 00001: val_acc improved from 0.76286 to 0.76367, saving model to text_classifier3/text_best_model.h5\n",
      "2922/2922 [==============================] - 172s - loss: 0.5299 - acc: 0.7543 - val_loss: 0.4523 - val_acc: 0.7637\n",
      "Epoch 3/5\n",
      "2880/2922 [============================>.] - ETA: 2s - loss: 0.5642 - acc: 0.7330Epoch 00002: val_acc did not improve\n",
      "2922/2922 [==============================] - 170s - loss: 0.5636 - acc: 0.7337 - val_loss: 0.5652 - val_acc: 0.7283\n",
      "Epoch 4/5\n",
      "2880/2922 [============================>.] - ETA: 2s - loss: 0.5322 - acc: 0.7531Epoch 00003: val_acc improved from 0.76367 to 0.80064, saving model to text_classifier3/text_best_model.h5\n",
      "2922/2922 [==============================] - 169s - loss: 0.5296 - acc: 0.7550 - val_loss: 0.4583 - val_acc: 0.8006\n",
      "Epoch 5/5\n",
      "2880/2922 [============================>.] - ETA: 2s - loss: 0.4953 - acc: 0.7722Epoch 00004: val_acc did not improve\n",
      "2922/2922 [==============================] - 206s - loss: 0.4939 - acc: 0.7738 - val_loss: 0.4542 - val_acc: 0.7814\n",
      "0.800643086817\n"
     ]
    }
   ],
   "source": [
    "model.fit(x_train, y_train, epochs=5, batch_size=64,\n",
    "          callbacks = [checkpoint, csvlog],\n",
    "          validation_data=(x_val, y_val))\n",
    "\n",
    "model.save(save_dir+'text_last_model.h5')\n",
    "print(checkpoint.best)"
   ]
  },
  {
   "cell_type": "code",
   "execution_count": null,
   "metadata": {},
   "outputs": [],
   "source": [
    "model.fit(x_train, y_train, epochs=5, batch_size=64,\n",
    "          callbacks = [checkpoint, csvlog],\n",
    "          validation_data=(x_val, y_val))\n",
    "\n",
    "model.save(save_dir+'text_last_model.h5')\n",
    "print(checkpoint.best)"
   ]
  }
 ],
 "metadata": {
  "kernelspec": {
   "display_name": "Python 3",
   "language": "python",
   "name": "python3"
  },
  "language_info": {
   "codemirror_mode": {
    "name": "ipython",
    "version": 3
   },
   "file_extension": ".py",
   "mimetype": "text/x-python",
   "name": "python",
   "nbconvert_exporter": "python",
   "pygments_lexer": "ipython3",
   "version": "3.5.4"
  }
 },
 "nbformat": 4,
 "nbformat_minor": 2
}
