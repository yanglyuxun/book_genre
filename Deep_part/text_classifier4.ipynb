{
 "cells": [
  {
   "cell_type": "markdown",
   "metadata": {},
   "source": [
    "Used the pre-trained glove embedding model in this trial.\n",
    "Add Convolution layers.\n",
    "Change tanh to sigmoid"
   ]
  },
  {
   "cell_type": "code",
   "execution_count": 3,
   "metadata": {},
   "outputs": [],
   "source": [
    "import read_data \n",
    "from keras.preprocessing.text import Tokenizer\n",
    "from keras.preprocessing.sequence import pad_sequences\n",
    "from keras.utils import to_categorical\n",
    "from keras.models import Sequential\n",
    "from keras.layers import Dense\n",
    "from keras.layers import LSTM\n",
    "from keras.layers import Bidirectional\n",
    "from keras.layers.convolutional import Conv1D\n",
    "from keras.layers.convolutional import MaxPooling1D\n",
    "from keras.layers.embeddings import Embedding\n",
    "from keras.preprocessing import sequence\n",
    "from keras.models import load_model\n",
    "from keras.callbacks import ModelCheckpoint, TensorBoard, CSVLogger\n",
    "import matplotlib.pyplot as plt\n",
    "import seaborn as sns\n",
    "import numpy as np\n",
    "import pandas as pd\n",
    "from pandas.io.pickle import to_pickle, read_pickle\n",
    "save_dir = 'text_classifier4/'\n",
    "import os\n",
    "if not os.path.exists(save_dir):\n",
    "    os.mkdir(save_dir)"
   ]
  },
  {
   "cell_type": "code",
   "execution_count": 4,
   "metadata": {},
   "outputs": [],
   "source": [
    "#%% imbeding vectors\n",
    "#download\n",
    "glove_dir = 'glove_data/'\n",
    "if not os.path.exists(glove_dir):\n",
    "    os.mkdir(glove_dir)\n",
    "if not os.path.exists(glove_dir+'glove.6B.zip'):\n",
    "    import subprocess\n",
    "    subprocess.run([\"wget\",'-P'+glove_dir, \"http://nlp.stanford.edu/data/glove.6B.zip\"])\n",
    "    print('downloaded')\n",
    "if not os.path.exists(glove_dir+'glove.6B.50d.txt'):\n",
    "    import zipfile\n",
    "    zip_ref = zipfile.ZipFile(glove_dir+'glove.6B.zip', 'r')\n",
    "    zip_ref.extractall(glove_dir)\n",
    "    zip_ref.close()\n",
    "    print('unziped')"
   ]
  },
  {
   "cell_type": "code",
   "execution_count": 5,
   "metadata": {},
   "outputs": [
    {
     "name": "stdout",
     "output_type": "stream",
     "text": [
      "Found 400000 word vectors.\n"
     ]
    }
   ],
   "source": [
    "embeddings_index = {}\n",
    "with open(glove_dir+'glove.6B.50d.txt') as f:\n",
    "    for line in f:\n",
    "        values = line.split()\n",
    "        word = values[0]\n",
    "        coefs = np.asarray(values[1:], dtype='float32')\n",
    "        embeddings_index[word] = coefs\n",
    "print('Found %s word vectors.' % len(embeddings_index))"
   ]
  },
  {
   "cell_type": "code",
   "execution_count": 6,
   "metadata": {},
   "outputs": [
    {
     "name": "stdout",
     "output_type": "stream",
     "text": [
      "169991\n"
     ]
    }
   ],
   "source": [
    "#%% first steps\n",
    "books,genre,excerpt = read_data.read_text_data()\n",
    "id_train,id_val = read_data.read_ids()\n",
    "\n",
    "MAX_WORDS = 8000\n",
    "tokenizer = Tokenizer(num_words=MAX_WORDS)\n",
    "tokenizer.fit_on_texts(excerpt.values())\n",
    "sequences = tokenizer.texts_to_sequences(excerpt.values())\n",
    "\n",
    "word_index = tokenizer.word_index\n",
    "to_pickle(tokenizer, save_dir+'text_tokenizer.pickle')\n",
    "print(len(word_index))\n"
   ]
  },
  {
   "cell_type": "code",
   "execution_count": 7,
   "metadata": {},
   "outputs": [
    {
     "data": {
      "text/plain": [
       "(0, 10000)"
      ]
     },
     "execution_count": 7,
     "metadata": {},
     "output_type": "execute_result"
    },
    {
     "data": {
      "image/png": "[encoded data removed]",
      "text/plain": [
       "<matplotlib.figure.Figure at 0x7f16bf8c2978>"
      ]
     },
     "metadata": {},
     "output_type": "display_data"
    }
   ],
   "source": [
    "lens = [len(s) for s in sequences]\n",
    "sns.distplot(lens)\n",
    "plt.xlim((0,10000))"
   ]
  },
  {
   "cell_type": "code",
   "execution_count": 8,
   "metadata": {},
   "outputs": [
    {
     "name": "stdout",
     "output_type": "stream",
     "text": [
      "Shape of data tensor: (4166, 4000)\n",
      "Shape of label tensor: (4166, 1)\n"
     ]
    }
   ],
   "source": [
    "MAXLEN = 4000\n",
    "data = pad_sequences(sequences, maxlen=MAXLEN)\n",
    "\n",
    "#labels = to_categorical(np.asarray(labels))\n",
    "labels = ['Fiction' in genre[id] for id in excerpt.keys()]\n",
    "labels = np.array(labels).reshape((-1,1))\n",
    "print('Shape of data tensor:', data.shape)\n",
    "print('Shape of label tensor:', labels.shape)"
   ]
  },
  {
   "cell_type": "code",
   "execution_count": 9,
   "metadata": {},
   "outputs": [
    {
     "name": "stdout",
     "output_type": "stream",
     "text": [
      "(2922, 4000) (2922, 1) (1244, 4000) (1244, 1)\n"
     ]
    }
   ],
   "source": [
    "# split the data into a training set and a validation set\n",
    "\n",
    "train_index = [id in id_train for id in excerpt.keys()]\n",
    "val_index = [id in id_val for id in excerpt.keys()]\n",
    "x_train = data[train_index]\n",
    "y_train = labels[train_index]\n",
    "x_val = data[val_index]\n",
    "y_val = labels[val_index]\n",
    "print(x_train.shape,y_train.shape,x_val.shape,y_val.shape)\n",
    "\n",
    "to_pickle((x_train, y_train, x_val, y_val),save_dir+'text_dataset.pc')"
   ]
  },
  {
   "cell_type": "code",
   "execution_count": 10,
   "metadata": {},
   "outputs": [],
   "source": [
    "# prepare embedding layer\n",
    "embedding_vecor_length = 50 # this is determined by the glove data!!!\n",
    "num_words = min(MAX_WORDS, len(word_index))\n",
    "embedding_matrix = np.zeros((num_words, embedding_vecor_length))\n",
    "for word, i in word_index.items():\n",
    "    if i >= MAX_WORDS:\n",
    "        continue\n",
    "    embedding_vector = embeddings_index.get(word)\n",
    "    if embedding_vector is not None:\n",
    "        # words not found in embedding index will be all-zeros.\n",
    "        embedding_matrix[i] = embedding_vector\n",
    "\n",
    "embedding_layer = Embedding(num_words,\n",
    "                            embedding_vecor_length,\n",
    "                            weights=[embedding_matrix],\n",
    "                            input_length=MAXLEN,\n",
    "                            trainable=False)"
   ]
  },
  {
   "cell_type": "code",
   "execution_count": 11,
   "metadata": {},
   "outputs": [
    {
     "name": "stdout",
     "output_type": "stream",
     "text": [
      "_________________________________________________________________\n",
      "Layer (type)                 Output Shape              Param #   \n",
      "=================================================================\n",
      "embedding_1 (Embedding)      (None, 4000, 50)          400000    \n",
      "_________________________________________________________________\n",
      "conv1d_1 (Conv1D)            (None, 3998, 32)          4832      \n",
      "_________________________________________________________________\n",
      "max_pooling1d_1 (MaxPooling1 (None, 1999, 32)          0         \n",
      "_________________________________________________________________\n",
      "bidirectional_1 (Bidirection (None, 100)               33200     \n",
      "_________________________________________________________________\n",
      "dense_1 (Dense)              (None, 1)                 101       \n",
      "=================================================================\n",
      "Total params: 438,133\n",
      "Trainable params: 38,133\n",
      "Non-trainable params: 400,000\n",
      "_________________________________________________________________\n",
      "None\n"
     ]
    }
   ],
   "source": [
    "\n",
    "model = Sequential()\n",
    "model.add(embedding_layer)\n",
    "model.add(Conv1D(filters=32, kernel_size=3, activation='relu'))\n",
    "model.add(MaxPooling1D(pool_size=2))\n",
    "model.add(Bidirectional(LSTM(50,dropout=0.2, recurrent_dropout=0.2)))\n",
    "model.add(Dense(1, activation='sigmoid'))\n",
    "model.compile(loss='binary_crossentropy', optimizer='adam', metrics=['accuracy'])\n",
    "print(model.summary())\n",
    "\n",
    "checkpoint = ModelCheckpoint(save_dir+\"text_best_model.h5\", monitor='val_acc', verbose=1, save_best_only=True, save_weights_only=False, mode='auto', period=1)\n",
    "#early = EarlyStopping(monitor='val_acc', min_delta=0, patience=10, verbose=1, mode='auto')\n",
    "with open(save_dir+'text_csvlogger.csv','w') as f:\n",
    "    f.write('')\n",
    "csvlog = CSVLogger(save_dir+'text_csvlogger.csv',append=True)"
   ]
  },
  {
   "cell_type": "code",
   "execution_count": 12,
   "metadata": {
    "scrolled": false
   },
   "outputs": [
    {
     "name": "stdout",
     "output_type": "stream",
     "text": [
      "Train on 2922 samples, validate on 1244 samples\n",
      "Epoch 1/5\n",
      "2880/2922 [============================>.] - ETA: 2s - loss: 0.6520 - acc: 0.6354Epoch 00000: val_acc improved from -inf to 0.66238, saving model to text_classifier4/text_best_model.h5\n",
      "2922/2922 [==============================] - 168s - loss: 0.6518 - acc: 0.6359 - val_loss: 0.6185 - val_acc: 0.6624\n",
      "Epoch 2/5\n",
      "2880/2922 [============================>.] - ETA: 2s - loss: 0.5928 - acc: 0.6691Epoch 00001: val_acc improved from 0.66238 to 0.74437, saving model to text_classifier4/text_best_model.h5\n",
      "2922/2922 [==============================] - 169s - loss: 0.5907 - acc: 0.6708 - val_loss: 0.4847 - val_acc: 0.7444\n",
      "Epoch 3/5\n",
      "2880/2922 [============================>.] - ETA: 2s - loss: 0.5394 - acc: 0.7132Epoch 00002: val_acc improved from 0.74437 to 0.75804, saving model to text_classifier4/text_best_model.h5\n",
      "2922/2922 [==============================] - 169s - loss: 0.5392 - acc: 0.7146 - val_loss: 0.5402 - val_acc: 0.7580\n",
      "Epoch 4/5\n",
      "2880/2922 [============================>.] - ETA: 2s - loss: 0.5354 - acc: 0.7288Epoch 00003: val_acc improved from 0.75804 to 0.76286, saving model to text_classifier4/text_best_model.h5\n",
      "2922/2922 [==============================] - 169s - loss: 0.5359 - acc: 0.7286 - val_loss: 0.4484 - val_acc: 0.7629\n",
      "Epoch 5/5\n",
      "2880/2922 [============================>.] - ETA: 2s - loss: 0.4939 - acc: 0.7490Epoch 00004: val_acc improved from 0.76286 to 0.77653, saving model to text_classifier4/text_best_model.h5\n",
      "2922/2922 [==============================] - 169s - loss: 0.4928 - acc: 0.7502 - val_loss: 0.4317 - val_acc: 0.7765\n",
      "0.776527331381\n"
     ]
    }
   ],
   "source": [
    "model.fit(x_train, y_train, epochs=5, batch_size=64,\n",
    "          callbacks = [checkpoint, csvlog],\n",
    "          validation_data=(x_val, y_val))\n",
    "\n",
    "#scores = model.evaluate(x_val, y_val, verbose=0)\n",
    "#print(\"Accuracy: %f%%\" % (scores[1]*100))\n",
    "\n",
    "model.save(save_dir+'text_last_model.h5')\n",
    "print(checkpoint.best)"
   ]
  },
  {
   "cell_type": "code",
   "execution_count": 13,
   "metadata": {},
   "outputs": [
    {
     "name": "stdout",
     "output_type": "stream",
     "text": [
      "Train on 2922 samples, validate on 1244 samples\n",
      "Epoch 1/5\n",
      "2880/2922 [============================>.] - ETA: 2s - loss: 0.4816 - acc: 0.7608Epoch 00000: val_acc improved from 0.77653 to 0.77974, saving model to text_classifier4/text_best_model.h5\n",
      "2922/2922 [==============================] - 169s - loss: 0.4803 - acc: 0.7611 - val_loss: 0.4229 - val_acc: 0.7797\n",
      "Epoch 2/5\n",
      "2880/2922 [============================>.] - ETA: 2s - loss: 0.4968 - acc: 0.7552Epoch 00001: val_acc improved from 0.77974 to 0.80466, saving model to text_classifier4/text_best_model.h5\n",
      "2922/2922 [==============================] - 169s - loss: 0.4948 - acc: 0.7567 - val_loss: 0.4151 - val_acc: 0.8047\n",
      "Epoch 3/5\n",
      "2880/2922 [============================>.] - ETA: 2s - loss: 0.4876 - acc: 0.7542Epoch 00002: val_acc did not improve\n",
      "2922/2922 [==============================] - 171s - loss: 0.4867 - acc: 0.7543 - val_loss: 0.4592 - val_acc: 0.7556\n",
      "Epoch 4/5\n",
      "2880/2922 [============================>.] - ETA: 2s - loss: 0.4914 - acc: 0.7604Epoch 00003: val_acc did not improve\n",
      "2922/2922 [==============================] - 171s - loss: 0.4924 - acc: 0.7598 - val_loss: 0.5468 - val_acc: 0.6977\n",
      "Epoch 5/5\n",
      "2880/2922 [============================>.] - ETA: 2s - loss: 0.4690 - acc: 0.7760Epoch 00004: val_acc did not improve\n",
      "2922/2922 [==============================] - 171s - loss: 0.4668 - acc: 0.7779 - val_loss: 0.4091 - val_acc: 0.8023\n",
      "0.804662379613\n"
     ]
    }
   ],
   "source": [
    "#%% continue training\n",
    "\n",
    "#model = load_model(save_dir+'text_last_model.h5')\n",
    "#x_train, y_train, x_val, y_val = read_pickle(save_dir+'text_dataset.pc')\n",
    "\n",
    "model.fit(x_train, y_train, epochs=5, batch_size=64,\n",
    "          callbacks = [checkpoint, csvlog],\n",
    "          validation_data=(x_val, y_val))\n",
    "\n",
    "model.save(save_dir+'text_last_model.h5')\n",
    "print(checkpoint.best)"
   ]
  },
  {
   "cell_type": "code",
   "execution_count": 14,
   "metadata": {},
   "outputs": [
    {
     "name": "stdout",
     "output_type": "stream",
     "text": [
      "Train on 2922 samples, validate on 1244 samples\n",
      "Epoch 1/5\n",
      "2880/2922 [============================>.] - ETA: 2s - loss: 0.4804 - acc: 0.7781Epoch 00000: val_acc did not improve\n",
      "2922/2922 [==============================] - 171s - loss: 0.4798 - acc: 0.7786 - val_loss: 0.5293 - val_acc: 0.7315\n",
      "Epoch 2/5\n",
      "2880/2922 [============================>.] - ETA: 2s - loss: 0.4956 - acc: 0.7545Epoch 00001: val_acc did not improve\n",
      "2922/2922 [==============================] - 170s - loss: 0.4952 - acc: 0.7550 - val_loss: 0.4200 - val_acc: 0.7990\n",
      "Epoch 3/5\n",
      "2880/2922 [============================>.] - ETA: 2s - loss: 0.4454 - acc: 0.7875Epoch 00002: val_acc improved from 0.80466 to 0.80707, saving model to text_classifier4/text_best_model.h5\n",
      "2922/2922 [==============================] - 170s - loss: 0.4442 - acc: 0.7882 - val_loss: 0.4094 - val_acc: 0.8071\n",
      "Epoch 4/5\n",
      "2880/2922 [============================>.] - ETA: 2s - loss: 0.4411 - acc: 0.7917Epoch 00003: val_acc improved from 0.80707 to 0.81270, saving model to text_classifier4/text_best_model.h5\n",
      "2922/2922 [==============================] - 169s - loss: 0.4401 - acc: 0.7926 - val_loss: 0.4088 - val_acc: 0.8127\n",
      "Epoch 5/5\n",
      "2880/2922 [============================>.] - ETA: 2s - loss: 0.4393 - acc: 0.7993Epoch 00004: val_acc did not improve\n",
      "2922/2922 [==============================] - 168s - loss: 0.4382 - acc: 0.8001 - val_loss: 0.3953 - val_acc: 0.8111\n",
      "0.812700964822\n"
     ]
    }
   ],
   "source": [
    "model.fit(x_train, y_train, epochs=5, batch_size=64,\n",
    "          callbacks = [checkpoint, csvlog],\n",
    "          validation_data=(x_val, y_val))\n",
    "\n",
    "model.save(save_dir+'text_last_model.h5')\n",
    "print(checkpoint.best)"
   ]
  },
  {
   "cell_type": "code",
   "execution_count": 15,
   "metadata": {
    "scrolled": true
   },
   "outputs": [
    {
     "name": "stdout",
     "output_type": "stream",
     "text": [
      "Train on 2922 samples, validate on 1244 samples\n",
      "Epoch 1/50\n",
      "2880/2922 [============================>.] - ETA: 2s - loss: 0.5082 - acc: 0.7688Epoch 00000: val_acc did not improve\n",
      "2922/2922 [==============================] - 168s - loss: 0.5072 - acc: 0.7690 - val_loss: 0.4624 - val_acc: 0.7902\n",
      "Epoch 2/50\n",
      "2880/2922 [============================>.] - ETA: 2s - loss: 0.4496 - acc: 0.7875Epoch 00001: val_acc did not improve\n",
      "2922/2922 [==============================] - 168s - loss: 0.4507 - acc: 0.7871 - val_loss: 0.4250 - val_acc: 0.8023\n",
      "Epoch 3/50\n",
      "2880/2922 [============================>.] - ETA: 2s - loss: 0.4331 - acc: 0.7983Epoch 00002: val_acc improved from 0.81270 to 0.81511, saving model to text_classifier4/text_best_model.h5\n",
      "2922/2922 [==============================] - 169s - loss: 0.4334 - acc: 0.7981 - val_loss: 0.4057 - val_acc: 0.8151\n",
      "Epoch 4/50\n",
      "2880/2922 [============================>.] - ETA: 2s - loss: 0.4164 - acc: 0.8090Epoch 00003: val_acc improved from 0.81511 to 0.82235, saving model to text_classifier4/text_best_model.h5\n",
      "2922/2922 [==============================] - 169s - loss: 0.4147 - acc: 0.8101 - val_loss: 0.3972 - val_acc: 0.8223\n",
      "Epoch 5/50\n",
      "2880/2922 [============================>.] - ETA: 2s - loss: 0.4846 - acc: 0.7427Epoch 00004: val_acc did not improve\n",
      "2922/2922 [==============================] - 170s - loss: 0.4837 - acc: 0.7440 - val_loss: 0.4761 - val_acc: 0.7307\n",
      "Epoch 6/50\n",
      "2880/2922 [============================>.] - ETA: 2s - loss: 0.4562 - acc: 0.7729Epoch 00005: val_acc did not improve\n",
      "2922/2922 [==============================] - 170s - loss: 0.4552 - acc: 0.7741 - val_loss: 0.3934 - val_acc: 0.8135\n",
      "Epoch 7/50\n",
      "2880/2922 [============================>.] - ETA: 2s - loss: 0.4121 - acc: 0.8069Epoch 00006: val_acc did not improve\n",
      "2922/2922 [==============================] - 169s - loss: 0.4099 - acc: 0.8084 - val_loss: 0.4033 - val_acc: 0.8175\n",
      "Epoch 8/50\n",
      "2880/2922 [============================>.] - ETA: 2s - loss: 0.4158 - acc: 0.8083Epoch 00007: val_acc did not improve\n",
      "2922/2922 [==============================] - 169s - loss: 0.4156 - acc: 0.8073 - val_loss: 0.3972 - val_acc: 0.8151\n",
      "Epoch 9/50\n",
      "2880/2922 [============================>.] - ETA: 2s - loss: 0.5385 - acc: 0.7292Epoch 00008: val_acc did not improve\n",
      "2922/2922 [==============================] - 169s - loss: 0.5389 - acc: 0.7283 - val_loss: 0.5205 - val_acc: 0.6986\n",
      "Epoch 10/50\n",
      "2880/2922 [============================>.] - ETA: 2s - loss: 0.5708 - acc: 0.6969Epoch 00009: val_acc did not improve\n",
      "2922/2922 [==============================] - 168s - loss: 0.5706 - acc: 0.6982 - val_loss: 0.5638 - val_acc: 0.7500\n",
      "Epoch 11/50\n",
      "2880/2922 [============================>.] - ETA: 2s - loss: 0.4977 - acc: 0.7531Epoch 00010: val_acc did not improve\n",
      "2922/2922 [==============================] - 170s - loss: 0.4967 - acc: 0.7539 - val_loss: 0.4301 - val_acc: 0.7805\n",
      "Epoch 12/50\n",
      "2880/2922 [============================>.] - ETA: 2s - loss: 0.4480 - acc: 0.7788Epoch 00011: val_acc improved from 0.82235 to 0.82395, saving model to text_classifier4/text_best_model.h5\n",
      "2922/2922 [==============================] - 170s - loss: 0.4468 - acc: 0.7789 - val_loss: 0.3855 - val_acc: 0.8240\n",
      "Epoch 13/50\n",
      "2880/2922 [============================>.] - ETA: 2s - loss: 0.4355 - acc: 0.7882Epoch 00012: val_acc did not improve\n",
      "2922/2922 [==============================] - 168s - loss: 0.4345 - acc: 0.7892 - val_loss: 0.4863 - val_acc: 0.7395\n",
      "Epoch 14/50\n",
      "2880/2922 [============================>.] - ETA: 2s - loss: 0.4237 - acc: 0.8003Epoch 00013: val_acc improved from 0.82395 to 0.83119, saving model to text_classifier4/text_best_model.h5\n",
      "2922/2922 [==============================] - 168s - loss: 0.4230 - acc: 0.8015 - val_loss: 0.3861 - val_acc: 0.8312\n",
      "Epoch 15/50\n",
      "2880/2922 [============================>.] - ETA: 2s - loss: 0.4090 - acc: 0.8101Epoch 00014: val_acc did not improve\n",
      "2922/2922 [==============================] - 168s - loss: 0.4106 - acc: 0.8090 - val_loss: 0.4000 - val_acc: 0.8215\n",
      "Epoch 16/50\n",
      "2880/2922 [============================>.] - ETA: 2s - loss: 0.4137 - acc: 0.8035Epoch 00015: val_acc did not improve\n",
      "2922/2922 [==============================] - 168s - loss: 0.4143 - acc: 0.8042 - val_loss: 0.5121 - val_acc: 0.7363\n",
      "Epoch 17/50\n",
      "2880/2922 [============================>.] - ETA: 2s - loss: 0.4571 - acc: 0.7597Epoch 00016: val_acc did not improve\n",
      "2922/2922 [==============================] - 169s - loss: 0.4567 - acc: 0.7601 - val_loss: 0.4444 - val_acc: 0.7701\n",
      "Epoch 18/50\n",
      "2880/2922 [============================>.] - ETA: 2s - loss: 0.4344 - acc: 0.7892Epoch 00017: val_acc did not improve\n",
      "2922/2922 [==============================] - 168s - loss: 0.4348 - acc: 0.7885 - val_loss: 0.4242 - val_acc: 0.8039\n",
      "Epoch 19/50\n",
      "2880/2922 [============================>.] - ETA: 2s - loss: 0.4121 - acc: 0.8090Epoch 00018: val_acc did not improve\n",
      "2922/2922 [==============================] - 170s - loss: 0.4117 - acc: 0.8090 - val_loss: 0.4012 - val_acc: 0.8095\n",
      "Epoch 20/50\n",
      "2880/2922 [============================>.] - ETA: 2s - loss: 0.3982 - acc: 0.8111Epoch 00019: val_acc did not improve\n",
      "2922/2922 [==============================] - 169s - loss: 0.3986 - acc: 0.8104 - val_loss: 0.3965 - val_acc: 0.8175\n",
      "Epoch 21/50\n",
      "2880/2922 [============================>.] - ETA: 2s - loss: 0.4001 - acc: 0.8111Epoch 00020: val_acc did not improve\n",
      "2922/2922 [==============================] - 168s - loss: 0.4010 - acc: 0.8111 - val_loss: 0.3882 - val_acc: 0.8248\n",
      "Epoch 22/50\n",
      "2880/2922 [============================>.] - ETA: 2s - loss: 0.4331 - acc: 0.7878Epoch 00021: val_acc did not improve\n",
      "2922/2922 [==============================] - 168s - loss: 0.4334 - acc: 0.7868 - val_loss: 0.4118 - val_acc: 0.8039\n",
      "Epoch 23/50\n",
      "2880/2922 [============================>.] - ETA: 2s - loss: 0.3966 - acc: 0.8122Epoch 00022: val_acc did not improve\n",
      "2922/2922 [==============================] - 169s - loss: 0.3951 - acc: 0.8135 - val_loss: 0.4274 - val_acc: 0.7918\n",
      "Epoch 24/50\n",
      "2880/2922 [============================>.] - ETA: 2s - loss: 0.3924 - acc: 0.8066Epoch 00023: val_acc did not improve\n",
      "2922/2922 [==============================] - 170s - loss: 0.3936 - acc: 0.8060 - val_loss: 0.4502 - val_acc: 0.7661\n",
      "Epoch 25/50\n",
      "2880/2922 [============================>.] - ETA: 2s - loss: 0.4987 - acc: 0.7851Epoch 00024: val_acc did not improve\n",
      "2922/2922 [==============================] - 168s - loss: 0.4975 - acc: 0.7847 - val_loss: 0.3866 - val_acc: 0.8167\n",
      "Epoch 26/50\n",
      "2880/2922 [============================>.] - ETA: 2s - loss: 0.4288 - acc: 0.7962Epoch 00025: val_acc did not improve\n",
      "2922/2922 [==============================] - 169s - loss: 0.4281 - acc: 0.7967 - val_loss: 0.4041 - val_acc: 0.8079\n",
      "Epoch 27/50\n",
      "2880/2922 [============================>.] - ETA: 2s - loss: 0.3982 - acc: 0.8080Epoch 00026: val_acc did not improve\n",
      "2922/2922 [==============================] - 169s - loss: 0.3993 - acc: 0.8077 - val_loss: 0.3877 - val_acc: 0.8240\n",
      "Epoch 28/50\n",
      "2880/2922 [============================>.] - ETA: 2s - loss: 0.3936 - acc: 0.8087Epoch 00027: val_acc did not improve\n",
      "2922/2922 [==============================] - 169s - loss: 0.3958 - acc: 0.8066 - val_loss: 0.4103 - val_acc: 0.8095\n",
      "Epoch 29/50\n",
      "2880/2922 [============================>.] - ETA: 2s - loss: 0.4149 - acc: 0.8063Epoch 00028: val_acc did not improve\n",
      "2922/2922 [==============================] - 169s - loss: 0.4155 - acc: 0.8053 - val_loss: 0.4522 - val_acc: 0.7572\n",
      "Epoch 30/50\n",
      "2880/2922 [============================>.] - ETA: 2s - loss: 0.4222 - acc: 0.8080Epoch 00029: val_acc did not improve\n",
      "2922/2922 [==============================] - 170s - loss: 0.4210 - acc: 0.8087 - val_loss: 0.3963 - val_acc: 0.8159\n",
      "Epoch 31/50\n",
      "2880/2922 [============================>.] - ETA: 2s - loss: 0.3919 - acc: 0.8212Epoch 00030: val_acc did not improve\n",
      "2922/2922 [==============================] - 168s - loss: 0.3938 - acc: 0.8203 - val_loss: 0.3903 - val_acc: 0.8127\n",
      "Epoch 32/50\n",
      "2880/2922 [============================>.] - ETA: 2s - loss: 0.3863 - acc: 0.8236Epoch 00031: val_acc did not improve\n",
      "2922/2922 [==============================] - 169s - loss: 0.3849 - acc: 0.8251 - val_loss: 0.3811 - val_acc: 0.8248\n",
      "Epoch 33/50\n"
     ]
    },
    {
     "name": "stdout",
     "output_type": "stream",
     "text": [
      "2880/2922 [============================>.] - ETA: 2s - loss: 0.3757 - acc: 0.8281Epoch 00032: val_acc did not improve\n",
      "2922/2922 [==============================] - 169s - loss: 0.3777 - acc: 0.8279 - val_loss: 0.3857 - val_acc: 0.8248\n",
      "Epoch 34/50\n",
      "2880/2922 [============================>.] - ETA: 2s - loss: 0.3951 - acc: 0.8149Epoch 00033: val_acc did not improve\n",
      "2922/2922 [==============================] - 169s - loss: 0.3963 - acc: 0.8142 - val_loss: 0.3912 - val_acc: 0.8240\n",
      "Epoch 35/50\n",
      "2880/2922 [============================>.] - ETA: 2s - loss: 0.3673 - acc: 0.8302Epoch 00034: val_acc improved from 0.83119 to 0.83280, saving model to text_classifier4/text_best_model.h5\n",
      "2922/2922 [==============================] - 169s - loss: 0.3669 - acc: 0.8299 - val_loss: 0.3726 - val_acc: 0.8328\n",
      "Epoch 36/50\n",
      "2880/2922 [============================>.] - ETA: 2s - loss: 0.3722 - acc: 0.8323Epoch 00035: val_acc did not improve\n",
      "2922/2922 [==============================] - 168s - loss: 0.3729 - acc: 0.8320 - val_loss: 0.3829 - val_acc: 0.8240\n",
      "Epoch 37/50\n",
      "2880/2922 [============================>.] - ETA: 2s - loss: 0.3708 - acc: 0.8285Epoch 00036: val_acc did not improve\n",
      "2922/2922 [==============================] - 168s - loss: 0.3702 - acc: 0.8289 - val_loss: 0.3860 - val_acc: 0.8248\n",
      "Epoch 38/50\n",
      "2880/2922 [============================>.] - ETA: 2s - loss: 0.3701 - acc: 0.8257Epoch 00037: val_acc did not improve\n",
      "2922/2922 [==============================] - 168s - loss: 0.3685 - acc: 0.8268 - val_loss: 0.3875 - val_acc: 0.8191\n",
      "Epoch 39/50\n",
      "2880/2922 [============================>.] - ETA: 2s - loss: 0.3642 - acc: 0.8365Epoch 00038: val_acc improved from 0.83280 to 0.83682, saving model to text_classifier4/text_best_model.h5\n",
      "2922/2922 [==============================] - 168s - loss: 0.3635 - acc: 0.8368 - val_loss: 0.3763 - val_acc: 0.8368\n",
      "Epoch 40/50\n",
      "2880/2922 [============================>.] - ETA: 2s - loss: 0.3593 - acc: 0.8438Epoch 00039: val_acc did not improve\n",
      "2922/2922 [==============================] - 169s - loss: 0.3578 - acc: 0.8450 - val_loss: 0.3887 - val_acc: 0.8248\n",
      "Epoch 41/50\n",
      "2880/2922 [============================>.] - ETA: 2s - loss: 0.3666 - acc: 0.8295Epoch 00040: val_acc did not improve\n",
      "2922/2922 [==============================] - 169s - loss: 0.3668 - acc: 0.8296 - val_loss: 0.3688 - val_acc: 0.8328\n",
      "Epoch 42/50\n",
      "2880/2922 [============================>.] - ETA: 2s - loss: 0.3584 - acc: 0.8413Epoch 00041: val_acc did not improve\n",
      "2922/2922 [==============================] - 169s - loss: 0.3595 - acc: 0.8409 - val_loss: 0.3861 - val_acc: 0.8248\n",
      "Epoch 43/50\n",
      "2880/2922 [============================>.] - ETA: 2s - loss: 0.3779 - acc: 0.8326Epoch 00042: val_acc improved from 0.83682 to 0.84084, saving model to text_classifier4/text_best_model.h5\n",
      "2922/2922 [==============================] - 169s - loss: 0.3780 - acc: 0.8323 - val_loss: 0.3807 - val_acc: 0.8408\n",
      "Epoch 44/50\n",
      "2880/2922 [============================>.] - ETA: 2s - loss: 0.3455 - acc: 0.8490Epoch 00043: val_acc did not improve\n",
      "2922/2922 [==============================] - 168s - loss: 0.3458 - acc: 0.8487 - val_loss: 0.3793 - val_acc: 0.8328\n",
      "Epoch 45/50\n",
      "2880/2922 [============================>.] - ETA: 2s - loss: 0.3464 - acc: 0.8465Epoch 00044: val_acc did not improve\n",
      "2922/2922 [==============================] - 169s - loss: 0.3486 - acc: 0.8450 - val_loss: 0.3843 - val_acc: 0.8207\n",
      "Epoch 46/50\n",
      "2880/2922 [============================>.] - ETA: 2s - loss: 0.3474 - acc: 0.8410Epoch 00045: val_acc did not improve\n",
      "2922/2922 [==============================] - 168s - loss: 0.3487 - acc: 0.8398 - val_loss: 0.3886 - val_acc: 0.8143\n",
      "Epoch 47/50\n",
      "2880/2922 [============================>.] - ETA: 2s - loss: 0.3464 - acc: 0.8486Epoch 00046: val_acc did not improve\n",
      "2922/2922 [==============================] - 168s - loss: 0.3486 - acc: 0.8467 - val_loss: 0.3706 - val_acc: 0.8328\n",
      "Epoch 48/50\n",
      "2880/2922 [============================>.] - ETA: 2s - loss: 0.3458 - acc: 0.8483Epoch 00047: val_acc did not improve\n",
      "2922/2922 [==============================] - 168s - loss: 0.3439 - acc: 0.8498 - val_loss: 0.3749 - val_acc: 0.8368\n",
      "Epoch 49/50\n",
      "2880/2922 [============================>.] - ETA: 2s - loss: 0.3350 - acc: 0.8490Epoch 00048: val_acc did not improve\n",
      "2922/2922 [==============================] - 168s - loss: 0.3339 - acc: 0.8498 - val_loss: 0.3712 - val_acc: 0.8400\n",
      "Epoch 50/50\n",
      "2880/2922 [============================>.] - ETA: 2s - loss: 0.3261 - acc: 0.8590Epoch 00049: val_acc did not improve\n",
      "2922/2922 [==============================] - 167s - loss: 0.3267 - acc: 0.8583 - val_loss: 0.3787 - val_acc: 0.8344\n",
      "0.84083601267\n"
     ]
    }
   ],
   "source": [
    "model.fit(x_train, y_train, epochs=50, batch_size=64,\n",
    "          callbacks = [checkpoint, csvlog],\n",
    "          validation_data=(x_val, y_val))\n",
    "\n",
    "model.save(save_dir+'text_last_model.h5')\n",
    "print(checkpoint.best)"
   ]
  }
 ],
 "metadata": {
  "kernelspec": {
   "display_name": "Python 3",
   "language": "python",
   "name": "python3"
  },
  "language_info": {
   "codemirror_mode": {
    "name": "ipython",
    "version": 3
   },
   "file_extension": ".py",
   "mimetype": "text/x-python",
   "name": "python",
   "nbconvert_exporter": "python",
   "pygments_lexer": "ipython3",
   "version": "3.5.4"
  }
 },
 "nbformat": 4,
 "nbformat_minor": 2
}
