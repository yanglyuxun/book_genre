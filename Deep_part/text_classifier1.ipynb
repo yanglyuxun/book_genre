{
 "cells": [
  {
   "cell_type": "code",
   "execution_count": 4,
   "metadata": {},
   "outputs": [],
   "source": [
    "import read_data \n",
    "from keras.preprocessing.text import Tokenizer\n",
    "from keras.preprocessing.sequence import pad_sequences\n",
    "from keras.utils import to_categorical\n",
    "from keras.models import Sequential\n",
    "from keras.layers import Dense\n",
    "from keras.layers import LSTM\n",
    "from keras.layers import Bidirectional\n",
    "from keras.layers.convolutional import Conv1D\n",
    "from keras.layers.convolutional import MaxPooling1D\n",
    "from keras.layers.embeddings import Embedding\n",
    "from keras.preprocessing import sequence\n",
    "from keras.models import load_model\n",
    "from keras.callbacks import ModelCheckpoint, TensorBoard, CSVLogger\n",
    "import matplotlib.pyplot as plt\n",
    "import seaborn as sns\n",
    "import numpy as np\n",
    "import pandas as pd\n",
    "from pandas.io.pickle import to_pickle, read_pickle\n",
    "save_dir = 'text_classifier1/'\n",
    "import os\n",
    "if not os.path.exists(save_dir):\n",
    "    os.mkdir(save_dir)"
   ]
  },
  {
   "cell_type": "code",
   "execution_count": 5,
   "metadata": {},
   "outputs": [
    {
     "name": "stdout",
     "output_type": "stream",
     "text": [
      "Found 169991 unique tokens.\n"
     ]
    }
   ],
   "source": [
    "#%% first steps\n",
    "books,genre,excerpt = read_data.read_text_data()\n",
    "id_train,id_val = read_data.read_ids()\n",
    "\n",
    "MAX_WORDS = 5000\n",
    "tokenizer = Tokenizer(num_words=MAX_WORDS)\n",
    "tokenizer.fit_on_texts(excerpt.values())\n",
    "sequences = tokenizer.texts_to_sequences(excerpt.values())\n",
    "\n",
    "word_index = tokenizer.word_index\n",
    "to_pickle(tokenizer, save_dir+'text_tokenizer.pickle')\n",
    "print('Found %s unique tokens.' % len(word_index))\n"
   ]
  },
  {
   "cell_type": "code",
   "execution_count": 6,
   "metadata": {},
   "outputs": [
    {
     "data": {
      "text/plain": [
       "(0, 10000)"
      ]
     },
     "execution_count": 6,
     "metadata": {},
     "output_type": "execute_result"
    },
    {
     "data": {
      "image/png": "[encoded data removed]",
      "text/plain": [
       "<matplotlib.figure.Figure at 0x7f650dbb0128>"
      ]
     },
     "metadata": {},
     "output_type": "display_data"
    }
   ],
   "source": [
    "lens = [len(s) for s in sequences]\n",
    "sns.distplot(lens)\n",
    "plt.xlim((0,10000))"
   ]
  },
  {
   "cell_type": "code",
   "execution_count": 7,
   "metadata": {},
   "outputs": [
    {
     "name": "stdout",
     "output_type": "stream",
     "text": [
      "Shape of data tensor: (4166, 6000)\n",
      "Shape of label tensor: (4166, 1)\n"
     ]
    }
   ],
   "source": [
    "MAXLEN = 6000\n",
    "data = pad_sequences(sequences, maxlen=MAXLEN)\n",
    "\n",
    "#labels = to_categorical(np.asarray(labels))\n",
    "labels = ['Fiction' in genre[id] for id in excerpt.keys()]\n",
    "labels = np.array(labels).reshape((-1,1))\n",
    "print('Shape of data tensor:', data.shape)\n",
    "print('Shape of label tensor:', labels.shape)"
   ]
  },
  {
   "cell_type": "code",
   "execution_count": 9,
   "metadata": {},
   "outputs": [
    {
     "name": "stdout",
     "output_type": "stream",
     "text": [
      "(2922, 6000) (2922, 1) (1244, 6000) (1244, 1)\n"
     ]
    }
   ],
   "source": [
    "# split the data into a training set and a validation set\n",
    "\n",
    "train_index = [id in id_train for id in excerpt.keys()]\n",
    "val_index = [id in id_val for id in excerpt.keys()]\n",
    "x_train = data[train_index]\n",
    "y_train = labels[train_index]\n",
    "x_val = data[val_index]\n",
    "y_val = labels[val_index]\n",
    "print(x_train.shape,y_train.shape,x_val.shape,y_val.shape)\n",
    "\n",
    "to_pickle((x_train, y_train, x_val, y_val),save_dir+'text_dataset.pc')"
   ]
  },
  {
   "cell_type": "code",
   "execution_count": 17,
   "metadata": {},
   "outputs": [
    {
     "name": "stdout",
     "output_type": "stream",
     "text": [
      "_________________________________________________________________\n",
      "Layer (type)                 Output Shape              Param #   \n",
      "=================================================================\n",
      "embedding_6 (Embedding)      (None, 6000, 16)          80000     \n",
      "_________________________________________________________________\n",
      "bidirectional_6 (Bidirection (None, 200)               93600     \n",
      "_________________________________________________________________\n",
      "dense_6 (Dense)              (None, 1)                 201       \n",
      "=================================================================\n",
      "Total params: 173,801\n",
      "Trainable params: 173,801\n",
      "Non-trainable params: 0\n",
      "_________________________________________________________________\n",
      "None\n"
     ]
    }
   ],
   "source": [
    "embedding_vecor_length = 16\n",
    "model = Sequential()\n",
    "model.add(Embedding(MAX_WORDS, embedding_vecor_length, input_length=MAXLEN))\n",
    "#model.add(Conv1D(filters=32, kernel_size=3, padding='same', activation='relu'))\n",
    "#model.add(MaxPooling1D(pool_size=2))\n",
    "model.add(Bidirectional(LSTM(100,dropout=0.2, recurrent_dropout=0.2)))\n",
    "model.add(Dense(1, activation='sigmoid'))\n",
    "model.compile(loss='binary_crossentropy', optimizer='adam', metrics=['accuracy'])\n",
    "print(model.summary())\n",
    "\n",
    "checkpoint = ModelCheckpoint(save_dir+\"text_best_model.h5\", monitor='val_acc', verbose=1, save_best_only=True, save_weights_only=False, mode='auto', period=1)\n",
    "#early = EarlyStopping(monitor='val_acc', min_delta=0, patience=10, verbose=1, mode='auto')\n",
    "with open(save_dir+'text_csvlogger.csv','w') as f:\n",
    "    f.write('')\n",
    "csvlog = CSVLogger(save_dir+'text_csvlogger.csv',append=True)"
   ]
  },
  {
   "cell_type": "code",
   "execution_count": 18,
   "metadata": {},
   "outputs": [
    {
     "name": "stdout",
     "output_type": "stream",
     "text": [
      "Train on 2922 samples, validate on 1244 samples\n",
      "Epoch 1/5\n",
      "2880/2922 [============================>.] - ETA: 9s - loss: 0.6587 - acc: 0.6351 Epoch 00000: val_acc improved from -inf to 0.66238, saving model to text_classifier1/text_best_model.h5\n",
      "2922/2922 [==============================] - 783s - loss: 0.6600 - acc: 0.6324 - val_loss: 0.6371 - val_acc: 0.6624\n",
      "Epoch 2/5\n",
      "2880/2922 [============================>.] - ETA: 9s - loss: 0.6217 - acc: 0.6569 Epoch 00001: val_acc improved from 0.66238 to 0.69132, saving model to text_classifier1/text_best_model.h5\n",
      "2922/2922 [==============================] - 785s - loss: 0.6218 - acc: 0.6581 - val_loss: 0.6257 - val_acc: 0.6913\n",
      "Epoch 3/5\n",
      "2880/2922 [============================>.] - ETA: 10s - loss: 0.4997 - acc: 0.7736Epoch 00002: val_acc improved from 0.69132 to 0.79823, saving model to text_classifier1/text_best_model.h5\n",
      "2922/2922 [==============================] - 800s - loss: 0.4982 - acc: 0.7741 - val_loss: 0.4384 - val_acc: 0.7982\n",
      "Epoch 4/5\n",
      "2880/2922 [============================>.] - ETA: 10s - loss: 0.4333 - acc: 0.8240Epoch 00003: val_acc improved from 0.79823 to 0.82797, saving model to text_classifier1/text_best_model.h5\n",
      "2922/2922 [==============================] - 802s - loss: 0.4331 - acc: 0.8241 - val_loss: 0.4058 - val_acc: 0.8280\n",
      "Epoch 5/5\n",
      "2880/2922 [============================>.] - ETA: 10s - loss: 0.4256 - acc: 0.8222Epoch 00004: val_acc did not improve\n",
      "2922/2922 [==============================] - 799s - loss: 0.4244 - acc: 0.8231 - val_loss: 0.4398 - val_acc: 0.8014\n"
     ]
    }
   ],
   "source": [
    "model.fit(x_train, y_train, epochs=5, batch_size=64,\n",
    "          callbacks = [checkpoint, csvlog],\n",
    "          validation_data=(x_val, y_val))\n",
    "\n",
    "#scores = model.evaluate(x_val, y_val, verbose=0)\n",
    "#print(\"Accuracy: %f%%\" % (scores[1]*100))\n",
    "\n",
    "model.save(save_dir+'text_last_model.h5')\n",
    "print(checkpoint.best)"
   ]
  },
  {
   "cell_type": "code",
   "execution_count": 30,
   "metadata": {},
   "outputs": [
    {
     "name": "stdout",
     "output_type": "stream",
     "text": [
      "0.827974276144\n"
     ]
    }
   ],
   "source": [
    "print(checkpoint.best)"
   ]
  },
  {
   "cell_type": "code",
   "execution_count": 31,
   "metadata": {},
   "outputs": [
    {
     "name": "stdout",
     "output_type": "stream",
     "text": [
      "Train on 2922 samples, validate on 1244 samples\n",
      "Epoch 1/5\n",
      "2880/2922 [============================>.] - ETA: 10s - loss: 0.3710 - acc: 0.8469Epoch 00000: val_acc did not improve\n",
      "2922/2922 [==============================] - 803s - loss: 0.3732 - acc: 0.8446 - val_loss: 0.5044 - val_acc: 0.7516\n",
      "Epoch 2/5\n",
      "2880/2922 [============================>.] - ETA: 10s - loss: 0.2971 - acc: 0.8774Epoch 00001: val_acc did not improve\n",
      "2922/2922 [==============================] - 803s - loss: 0.2970 - acc: 0.8771 - val_loss: 0.4761 - val_acc: 0.8103\n",
      "Epoch 3/5\n",
      "2880/2922 [============================>.] - ETA: 10s - loss: 0.2635 - acc: 0.9062Epoch 00002: val_acc did not improve\n",
      "2922/2922 [==============================] - 801s - loss: 0.2640 - acc: 0.9059 - val_loss: 0.4871 - val_acc: 0.7749\n",
      "Epoch 4/5\n",
      "2880/2922 [============================>.] - ETA: 10s - loss: 0.2196 - acc: 0.9219Epoch 00003: val_acc did not improve\n",
      "2922/2922 [==============================] - 813s - loss: 0.2190 - acc: 0.9220 - val_loss: 0.5493 - val_acc: 0.7894\n",
      "Epoch 5/5\n",
      "2880/2922 [============================>.] - ETA: 10s - loss: 0.2110 - acc: 0.9236Epoch 00004: val_acc did not improve\n",
      "2922/2922 [==============================] - 805s - loss: 0.2095 - acc: 0.9240 - val_loss: 0.6014 - val_acc: 0.7693\n"
     ]
    }
   ],
   "source": [
    "#%% continue training\n",
    "\n",
    "#model = load_model(save_dir+'text_last_model.h5')\n",
    "#x_train, y_train, x_val, y_val = read_pickle(save_dir+'text_dataset.pc')\n",
    "\n",
    "model.fit(x_train, y_train, epochs=5, batch_size=64,\n",
    "          callbacks = [checkpoint, csvlog],\n",
    "          validation_data=(x_val, y_val))\n",
    "\n",
    "model.save(save_dir+'text_last_model.h5')"
   ]
  }
 ],
 "metadata": {
  "kernelspec": {
   "display_name": "Python 3",
   "language": "python",
   "name": "python3"
  },
  "language_info": {
   "codemirror_mode": {
    "name": "ipython",
    "version": 3
   },
   "file_extension": ".py",
   "mimetype": "text/x-python",
   "name": "python",
   "nbconvert_exporter": "python",
   "pygments_lexer": "ipython3",
   "version": "3.5.4"
  }
 },
 "nbformat": 4,
 "nbformat_minor": 2
}
